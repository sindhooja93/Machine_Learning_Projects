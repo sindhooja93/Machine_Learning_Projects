{
 "cells": [
  {
   "cell_type": "code",
   "execution_count": 21,
   "metadata": {},
   "outputs": [],
   "source": [
    "import numpy as np\n",
    "import matplotlib.pyplot as plt\n",
    "import keras\n",
    "import pydot\n",
    "import graphviz\n",
    "from keras.utils import plot_model\n",
    "from IPython.display import SVG\n",
    "from keras.utils.vis_utils import model_to_dot\n",
    "from keras.layers import Conv2D, MaxPooling2D, Flatten\n",
    "from keras.layers import Dense, Dropout\n",
    "from keras.models import Sequential\n",
    "from keras.optimizers import Adam\n",
    "import tensorflow as tf\n",
    "from keras.callbacks import TensorBoard"
   ]
  },
  {
   "cell_type": "code",
   "execution_count": 26,
   "metadata": {},
   "outputs": [],
   "source": [
    "(X_train, y_train), (X_test, y_test) = tf.keras.datasets.fashion_mnist.load_data()"
   ]
  },
  {
   "cell_type": "code",
   "execution_count": 27,
   "metadata": {},
   "outputs": [
    {
     "data": {
      "image/png": "[encoded data removed]",
      "text/plain": [
       "<Figure size 432x288 with 1 Axes>"
      ]
     },
     "metadata": {
      "needs_background": "light"
     },
     "output_type": "display_data"
    },
    {
     "name": "stdout",
     "output_type": "stream",
     "text": [
      "(60000, 28, 28)\n"
     ]
    }
   ],
   "source": [
    "image_shape = (28, 28, 1)\n",
    "input_shape=[None,28,28,1]\n",
    "\n",
    "#Hyper parameters\n",
    "batch_size = 128\n",
    "num_classes = 10\n",
    "epochs = 12\n",
    "\n",
    "image = X_train[123, :].reshape((28, 28))\n",
    "\n",
    "plt.imshow(image)\n",
    "plt.show()\n",
    "\n",
    "print(X_train.shape)"
   ]
  },
  {
   "cell_type": "code",
   "execution_count": 28,
   "metadata": {},
   "outputs": [],
   "source": [
    "# scale data to the range of [0, 1]\n",
    "X_train = X_train.astype('float32') / 255\n",
    "X_test = X_test.astype('float32') / 255\n",
    "\n",
    "\n",
    "# Further spliting training data into train / validation sets (# put 10000 into validation set and keep remaining 50,000 for train)\n",
    "(X_train, X_cv) = X_train[10000:], X_train[:10000] \n",
    "(y_train, y_cv) = y_train[10000:], y_train[:10000]\n",
    "\n"
   ]
  },
  {
   "cell_type": "code",
   "execution_count": 29,
   "metadata": {},
   "outputs": [
    {
     "name": "stdout",
     "output_type": "stream",
     "text": [
      "x_train shape: (50000, 28, 28, 1)\n",
      "x_test shape: (10000, 28, 28, 1)\n",
      "x_cv shape: (10000, 28, 28, 1)\n",
      "y_train shape: (50000, 10)\n",
      "y_test shape: (10000, 10)\n",
      "y_cv shape: (10000, 10)\n"
     ]
    }
   ],
   "source": [
    "# Reshape input data to (28, 28, 1)\n",
    "w, h = 28, 28\n",
    "X_train = X_train.reshape(X_train.shape[0], w, h, 1)\n",
    "X_cv = X_cv.reshape(X_cv.shape[0], w, h, 1)\n",
    "X_test = X_test.reshape(X_test.shape[0], w, h, 1)\n",
    "\n",
    "# One-hot encode the labels\n",
    "y_train = tf.keras.utils.to_categorical(y_train,num_classes)\n",
    "y_cv = tf.keras.utils.to_categorical(y_cv,num_classes)\n",
    "y_test = tf.keras.utils.to_categorical(y_test,num_classes)\n",
    "\n",
    "#Print the sizes and shapes\n",
    "print('x_train shape: {}'.format(X_train.shape))\n",
    "print('x_test shape: {}'.format(X_test.shape))\n",
    "print('x_cv shape: {}'.format(X_cv.shape))\n",
    "print('y_train shape: {}'.format(y_train.shape))\n",
    "print('y_test shape: {}'.format(y_test.shape))\n",
    "print('y_cv shape: {}'.format(y_cv.shape))"
   ]
  },
  {
   "cell_type": "code",
   "execution_count": 30,
   "metadata": {},
   "outputs": [],
   "source": [
    "input_shape = (28, 28, 1)\n",
    "model = Sequential()\n",
    "model.add(Conv2D(32, kernel_size=(3, 3),\n",
    "                 activation='relu',\n",
    "                 input_shape=input_shape))\n",
    "model.add(Conv2D(64, (3, 3), activation='relu'))\n",
    "model.add(MaxPooling2D(pool_size=(2, 2)))\n",
    "model.add(Dropout(0.25))\n",
    "model.add(Flatten())\n",
    "model.add(Dense(128, activation='relu'))\n",
    "model.add(Dropout(0.5))\n",
    "model.add(Dense(10, activation='softmax'))"
   ]
  },
  {
   "cell_type": "code",
   "execution_count": 12,
   "metadata": {},
   "outputs": [
    {
     "name": "stdout",
     "output_type": "stream",
     "text": [
      "Train on 50000 samples, validate on 10000 samples\n",
      "Epoch 1/12\n",
      "50000/50000 [==============================] - 209s 4ms/step - loss: 0.5386 - acc: 0.8083 - val_loss: 0.3348 - val_acc: 0.8783\n",
      "Epoch 2/12\n",
      "50000/50000 [==============================] - 209s 4ms/step - loss: 0.3865 - acc: 0.8589 - val_loss: 0.3073 - val_acc: 0.8894\n",
      "Epoch 3/12\n",
      "50000/50000 [==============================] - 210s 4ms/step - loss: 0.3675 - acc: 0.8642 - val_loss: 0.2974 - val_acc: 0.8878\n",
      "Epoch 4/12\n",
      "50000/50000 [==============================] - 209s 4ms/step - loss: 0.3422 - acc: 0.8741 - val_loss: 0.2894 - val_acc: 0.8903\n",
      "Epoch 5/12\n",
      "50000/50000 [==============================] - 210s 4ms/step - loss: 0.3275 - acc: 0.8800 - val_loss: 0.2796 - val_acc: 0.8977\n",
      "Epoch 6/12\n",
      "50000/50000 [==============================] - 210s 4ms/step - loss: 0.3181 - acc: 0.8824 - val_loss: 0.2789 - val_acc: 0.8971\n",
      "Epoch 7/12\n",
      "50000/50000 [==============================] - 209s 4ms/step - loss: 0.3107 - acc: 0.8834 - val_loss: 0.2853 - val_acc: 0.8923\n",
      "Epoch 8/12\n",
      "50000/50000 [==============================] - 208s 4ms/step - loss: 0.3076 - acc: 0.8857 - val_loss: 0.2664 - val_acc: 0.9037\n",
      "Epoch 9/12\n",
      "50000/50000 [==============================] - 210s 4ms/step - loss: 0.3012 - acc: 0.8883 - val_loss: 0.2670 - val_acc: 0.9003\n",
      "Epoch 10/12\n",
      "50000/50000 [==============================] - 209s 4ms/step - loss: 0.2950 - acc: 0.8902 - val_loss: 0.2783 - val_acc: 0.8974\n",
      "Epoch 11/12\n",
      "50000/50000 [==============================] - 210s 4ms/step - loss: 0.2892 - acc: 0.8923 - val_loss: 0.2757 - val_acc: 0.9018\n",
      "Epoch 12/12\n",
      "50000/50000 [==============================] - 212s 4ms/step - loss: 0.2891 - acc: 0.8924 - val_loss: 0.2738 - val_acc: 0.9025\n"
     ]
    },
    {
     "data": {
      "text/plain": [
       "<keras.callbacks.History at 0xe05e5f8>"
      ]
     },
     "execution_count": 12,
     "metadata": {},
     "output_type": "execute_result"
    }
   ],
   "source": [
    "model.compile(loss=keras.losses.categorical_crossentropy,\n",
    "              optimizer=keras.optimizers.Adam(0.01),\n",
    "              metrics=['accuracy'])\n",
    "model.fit(X_train, y_train,\n",
    "          batch_size=batch_size,\n",
    "          epochs=epochs,\n",
    "          verbose=1,\n",
    "          validation_data=(X_cv, y_cv))\n",
    "#model.fit(X_train, y_train, validation_data=(X_cv, y_cv),, batch_size=128, epochs=12, verbose=2)"
   ]
  },
  {
   "cell_type": "code",
   "execution_count": 13,
   "metadata": {},
   "outputs": [
    {
     "name": "stdout",
     "output_type": "stream",
     "text": [
      "Test loss: 0.30049304859638215\n",
      "Test accuracy: 0.8948\n"
     ]
    }
   ],
   "source": [
    "score = model.evaluate(X_test, y_test, verbose=0)\n",
    "print('Test loss:', score[0])\n",
    "print('Test accuracy:', score[1])"
   ]
  },
  {
   "cell_type": "code",
   "execution_count": 14,
   "metadata": {},
   "outputs": [
    {
     "name": "stdout",
     "output_type": "stream",
     "text": [
      "_________________________________________________________________\n",
      "Layer (type)                 Output Shape              Param #   \n",
      "=================================================================\n",
      "conv2d_1 (Conv2D)            (None, 26, 26, 32)        320       \n",
      "_________________________________________________________________\n",
      "conv2d_2 (Conv2D)            (None, 24, 24, 64)        18496     \n",
      "_________________________________________________________________\n",
      "max_pooling2d_1 (MaxPooling2 (None, 12, 12, 64)        0         \n",
      "_________________________________________________________________\n",
      "dropout_1 (Dropout)          (None, 12, 12, 64)        0         \n",
      "_________________________________________________________________\n",
      "flatten_1 (Flatten)          (None, 9216)              0         \n",
      "_________________________________________________________________\n",
      "dense_1 (Dense)              (None, 128)               1179776   \n",
      "_________________________________________________________________\n",
      "dropout_2 (Dropout)          (None, 128)               0         \n",
      "_________________________________________________________________\n",
      "dense_2 (Dense)              (None, 10)                1290      \n",
      "=================================================================\n",
      "Total params: 1,199,882\n",
      "Trainable params: 1,199,882\n",
      "Non-trainable params: 0\n",
      "_________________________________________________________________\n"
     ]
    }
   ],
   "source": [
    "model.summary()"
   ]
  },
  {
   "cell_type": "code",
   "execution_count": null,
   "metadata": {},
   "outputs": [],
   "source": []
  },
  {
   "cell_type": "code",
   "execution_count": null,
   "metadata": {},
   "outputs": [],
   "source": []
  }
 ],
 "metadata": {
  "kernelspec": {
   "display_name": "Python 3",
   "language": "python",
   "name": "python3"
  },
  "language_info": {
   "codemirror_mode": {
    "name": "ipython",
    "version": 3
   },
   "file_extension": ".py",
   "mimetype": "text/x-python",
   "name": "python",
   "nbconvert_exporter": "python",
   "pygments_lexer": "ipython3",
   "version": "3.6.2"
  }
 },
 "nbformat": 4,
 "nbformat_minor": 2
}
